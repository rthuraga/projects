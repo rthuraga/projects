{
 "cells": [
  {
   "cell_type": "markdown",
   "id": "0b068632",
   "metadata": {},
   "source": [
    " # Will a Customer Accept the Coupon?"
   ]
  },
  {
   "cell_type": "markdown",
   "id": "fdbf19ca",
   "metadata": {},
   "source": [
    "## Abstract"
   ]
  },
  {
   "cell_type": "markdown",
   "id": "1262b014",
   "metadata": {},
   "source": [
    "The goal of this project is distinguish between customers who accepted a coupon versus those that did not accept the coupon recommended to them in different driving scenarios."
   ]
  },
  {
   "cell_type": "markdown",
   "id": "47967592",
   "metadata": {},
   "source": [
    "## Business Understanding"
   ]
  },
  {
   "cell_type": "markdown",
   "id": "d7105acb",
   "metadata": {},
   "source": [
    "Analyse the data of coupon offerings (bar, restaurant, coffee house, etc.), contextual attributes (driving destination, locacation of user, weather, etc.)  and user attributes (Gender, Age, Marital Status, etc.) to see which factors influnced more on accepting the coupons. This analysis helps the companies to offer the right coupon based on the user and context. Correct coupon offerings increases the customer base, which can lead to enhancement of companies profits."
   ]
  },
  {
   "cell_type": "markdown",
   "id": "cf27848b",
   "metadata": {},
   "source": [
    "## Data Understanding"
   ]
  },
  {
   "cell_type": "markdown",
   "id": "252e09fa",
   "metadata": {},
   "source": [
    "This data was collected via a survey on Amazon Mechanical Turk. The survey describes different driving scenarios including the destination, current time, weather, passenger, etc., and then ask the person whether he/she will accept the coupon if he/she is the driver.\n",
    "\n",
    "**Dataset:** coupon.csv\n",
    "\n",
    "**Data Description:**\n",
    "\n",
    "1. User attributes\n",
    "    -  Gender: male, female\n",
    "    -  Age: below 21, 21 to 25, 26 to 30, etc.\n",
    "    -  Marital Status: single, married partner, unmarried partner, or widowed\n",
    "    -  Number of children: 0, 1, or more than 1\n",
    "    -  Education: high school, bachelors degree, associates degree, or graduate degree\n",
    "    -  Occupation: architecture & engineering, business & financial, etc.\n",
    "    -  Annual income: less than \\\\$12500, \\\\$12500 - \\\\$24999, \\\\$25000 - \\\\$37499, etc.\n",
    "    -  Number of times that he/she goes to a bar: 0, less than 1, 1 to 3, 4 to 8 or greater than 8\n",
    "    -  Number of times that he/she buys takeaway food: 0, less than 1, 1 to 3, 4 to 8 or greater\n",
    "    than 8\n",
    "    -  Number of times that he/she goes to a coffee house: 0, less than 1, 1 to 3, 4 to 8 or\n",
    "    greater than 8\n",
    "    -  Number of times that he/she eats at a restaurant with average expense less than \\\\$20 per\n",
    "    person: 0, less than 1, 1 to 3, 4 to 8 or greater than 8\n",
    "    -  Number of times that he/she goes to a bar: 0, less than 1, 1 to 3, 4 to 8 or greater than 8\n",
    "    \n",
    "\n",
    "2. Contextual attributes\n",
    "    - Driving destination: home, work, or no urgent destination\n",
    "    - Location of user, coupon and destination: we provide a map to show the geographical\n",
    "    location of the user, destination, and the venue, and we mark the distance between each\n",
    "    two places with time of driving. The user can see whether the venue is in the same\n",
    "    direction as the destination.\n",
    "    - Weather: sunny, rainy, or snowy\n",
    "    - Temperature: 30F, 55F, or 80F\n",
    "    - Time: 10AM, 2PM, or 6PM\n",
    "    - Passenger: alone, partner, kid(s), or friend(s)\n",
    "\n",
    "\n",
    "3. Coupon attributes\n",
    "    - time before it expires: 2 hours or one day\n",
    " \n",
    " \n",
    "4. Target attribute\n",
    "    - Y: Whether the coupon is accepted or not accepted, 1:accepeted,2:not accepted "
   ]
  },
  {
   "cell_type": "markdown",
   "id": "f0c1ffe4",
   "metadata": {},
   "source": [
    "## Data Cleaning"
   ]
  },
  {
   "cell_type": "markdown",
   "id": "25fa58da",
   "metadata": {},
   "source": [
    "### Load the data"
   ]
  },
  {
   "cell_type": "code",
   "execution_count": 1,
   "id": "fe218985",
   "metadata": {},
   "outputs": [],
   "source": [
    "import matplotlib.pyplot as plt\n",
    "import seaborn as sns\n",
    "import pandas as pd\n",
    "import numpy as np"
   ]
  },
  {
   "cell_type": "code",
   "execution_count": 2,
   "id": "0125dd3c",
   "metadata": {
    "scrolled": true
   },
   "outputs": [
    {
     "name": "stdout",
     "output_type": "stream",
     "text": [
      " Orignal datasetset shape (12684, 26)\n"
     ]
    }
   ],
   "source": [
    "data = pd.read_csv('data/coupons.csv')\n",
    "print(f' Orignal datasetset shape {data.shape}')"
   ]
  },
  {
   "cell_type": "markdown",
   "id": "7ef34201",
   "metadata": {},
   "source": [
    "### Duplicate Rows\n",
    "1. Identify the duplicate rows \n",
    "2. Remove the duplicate rows \n",
    "3. Document the findings"
   ]
  },
  {
   "cell_type": "markdown",
   "id": "8be9e52d",
   "metadata": {},
   "source": [
    "#### Identify the duplicate rows"
   ]
  },
  {
   "cell_type": "code",
   "execution_count": 3,
   "id": "487f028f",
   "metadata": {},
   "outputs": [
    {
     "name": "stdout",
     "output_type": "stream",
     "text": [
      " Orignal datasetset has 74 duplicate rows\n"
     ]
    }
   ],
   "source": [
    "duplicate_rows = data.duplicated().sum()\n",
    "print(f' Orignal datasetset has {duplicate_rows} duplicate rows')"
   ]
  },
  {
   "cell_type": "markdown",
   "id": "f21ddc11",
   "metadata": {},
   "source": [
    "#### Remove duplicate rows"
   ]
  },
  {
   "cell_type": "code",
   "execution_count": 4,
   "id": "f684ab4f",
   "metadata": {
    "scrolled": true
   },
   "outputs": [
    {
     "name": "stdout",
     "output_type": "stream",
     "text": [
      " Datasetset shape after removing duplicates (12610, 26)\n"
     ]
    }
   ],
   "source": [
    "data = data.drop_duplicates()\n",
    "print(f' Datasetset shape after removing duplicates {data.shape}')"
   ]
  },
  {
   "cell_type": "markdown",
   "id": "f9117d00",
   "metadata": {},
   "source": [
    "#### Findings\n",
    "- Original dataset has 12684 rows and 26 columns\n",
    "- Orignal dataset has 74 duplicate rows\n",
    "- <B>After removing duplicate rows, there are 12610 rows"
   ]
  },
  {
   "cell_type": "markdown",
   "id": "41370518",
   "metadata": {},
   "source": [
    "### Missing Values\n",
    "1. Check for missing values\n",
    "2. Handle the missing values\n",
    "    - Remove rows having missing values or\n",
    "    - Drop the feature that has too many missing vlaues or\n",
    "    - Fill in the missing values\n",
    "3. Document the findings\n"
   ]
  },
  {
   "cell_type": "markdown",
   "id": "331fc8c1",
   "metadata": {},
   "source": [
    "#### Are there any missing values?"
   ]
  },
  {
   "cell_type": "code",
   "execution_count": 5,
   "id": "fd4e0ed4",
   "metadata": {},
   "outputs": [
    {
     "name": "stdout",
     "output_type": "stream",
     "text": [
      " Are there any missing values in the dataset: True\n"
     ]
    }
   ],
   "source": [
    "print(f' Are there any missing values in the dataset: {data.isnull().values.any()}')"
   ]
  },
  {
   "cell_type": "markdown",
   "id": "e408f92e",
   "metadata": {},
   "source": [
    "#### Missing values visualization"
   ]
  },
  {
   "cell_type": "code",
   "execution_count": 6,
   "id": "09ea1646",
   "metadata": {},
   "outputs": [
    {
     "data": {
      "image/png": "[encoded data removed]",
      "text/plain": [
       "<Figure size 432x288 with 1 Axes>"
      ]
     },
     "metadata": {
      "needs_background": "light"
     },
     "output_type": "display_data"
    }
   ],
   "source": [
    "data.isna().sum().plot(kind=\"bar\")\n",
    "plt.show()"
   ]
  },
  {
   "cell_type": "markdown",
   "id": "366aa0cb",
   "metadata": {},
   "source": [
    "#### Percentage of missing values per feature"
   ]
  },
  {
   "cell_type": "code",
   "execution_count": 7,
   "id": "131e38bc",
   "metadata": {},
   "outputs": [
    {
     "data": {
      "text/html": [
       "<div>\n",
       "<style scoped>\n",
       "    .dataframe tbody tr th:only-of-type {\n",
       "        vertical-align: middle;\n",
       "    }\n",
       "\n",
       "    .dataframe tbody tr th {\n",
       "        vertical-align: top;\n",
       "    }\n",
       "\n",
       "    .dataframe thead th {\n",
       "        text-align: right;\n",
       "    }\n",
       "</style>\n",
       "<table border=\"1\" class=\"dataframe\">\n",
       "  <thead>\n",
       "    <tr style=\"text-align: right;\">\n",
       "      <th></th>\n",
       "      <th>column_name</th>\n",
       "      <th>percent_missing</th>\n",
       "    </tr>\n",
       "  </thead>\n",
       "  <tbody>\n",
       "    <tr>\n",
       "      <th>car</th>\n",
       "      <td>car</td>\n",
       "      <td>99.143537</td>\n",
       "    </tr>\n",
       "    <tr>\n",
       "      <th>Bar</th>\n",
       "      <td>Bar</td>\n",
       "      <td>0.848533</td>\n",
       "    </tr>\n",
       "    <tr>\n",
       "      <th>CoffeeHouse</th>\n",
       "      <td>CoffeeHouse</td>\n",
       "      <td>1.720856</td>\n",
       "    </tr>\n",
       "    <tr>\n",
       "      <th>CarryAway</th>\n",
       "      <td>CarryAway</td>\n",
       "      <td>1.189532</td>\n",
       "    </tr>\n",
       "    <tr>\n",
       "      <th>RestaurantLessThan20</th>\n",
       "      <td>RestaurantLessThan20</td>\n",
       "      <td>1.022998</td>\n",
       "    </tr>\n",
       "    <tr>\n",
       "      <th>Restaurant20To50</th>\n",
       "      <td>Restaurant20To50</td>\n",
       "      <td>1.498810</td>\n",
       "    </tr>\n",
       "  </tbody>\n",
       "</table>\n",
       "</div>"
      ],
      "text/plain": [
       "                               column_name  percent_missing\n",
       "car                                    car        99.143537\n",
       "Bar                                    Bar         0.848533\n",
       "CoffeeHouse                    CoffeeHouse         1.720856\n",
       "CarryAway                        CarryAway         1.189532\n",
       "RestaurantLessThan20  RestaurantLessThan20         1.022998\n",
       "Restaurant20To50          Restaurant20To50         1.498810"
      ]
     },
     "execution_count": 7,
     "metadata": {},
     "output_type": "execute_result"
    }
   ],
   "source": [
    "percent_missing = data.isnull().sum() * 100 / len(data)\n",
    "missing_value_df = pd.DataFrame({'column_name': data.columns,\n",
    "                                 'percent_missing': percent_missing})\n",
    "missing_value_df[missing_value_df.percent_missing != 0]"
   ]
  },
  {
   "cell_type": "markdown",
   "id": "8a22e178",
   "metadata": {},
   "source": [
    "#### Findings\n",
    "1. There are six columns with missing values and more than 99% of the 'car' feaure values are missing. We will go by the idea of dropping the feature tha has too many missing values.\n",
    "2. Other missing values features have about 1% of the total data missing, these values can be filled."
   ]
  },
  {
   "cell_type": "markdown",
   "id": "6ae9e850",
   "metadata": {},
   "source": [
    "#### Dropping car attribute and Filling missing values"
   ]
  },
  {
   "cell_type": "code",
   "execution_count": 8,
   "id": "e33a43bb",
   "metadata": {
    "scrolled": true
   },
   "outputs": [],
   "source": [
    "data.drop(columns=['car'], inplace=True)"
   ]
  },
  {
   "cell_type": "code",
   "execution_count": 9,
   "id": "a3d508d4",
   "metadata": {
    "scrolled": true
   },
   "outputs": [
    {
     "data": {
      "text/plain": [
       "Bar                     object\n",
       "CoffeeHouse             object\n",
       "CarryAway               object\n",
       "RestaurantLessThan20    object\n",
       "Restaurant20To50        object\n",
       "dtype: object"
      ]
     },
     "execution_count": 9,
     "metadata": {},
     "output_type": "execute_result"
    }
   ],
   "source": [
    "na_data = data[['Bar', 'CoffeeHouse', 'CarryAway', 'RestaurantLessThan20', 'Restaurant20To50']]\n",
    "na_data.dtypes"
   ]
  },
  {
   "cell_type": "markdown",
   "id": "75f19d83",
   "metadata": {},
   "source": [
    "As all of the missing values column data type is an object, so we can use mode imputation for missing values."
   ]
  },
  {
   "cell_type": "code",
   "execution_count": 10,
   "id": "69fe95e4",
   "metadata": {},
   "outputs": [],
   "source": [
    "data['Bar'] = data['Bar'].fillna(data['Bar'].mode()[0])\n",
    "data['CoffeeHouse'] = data['CoffeeHouse'].fillna(data['CoffeeHouse'].mode()[0])\n",
    "data['CarryAway'] = data['CarryAway'].fillna(data['CarryAway'].mode()[0])\n",
    "data['RestaurantLessThan20'] = data['RestaurantLessThan20'].fillna(data['RestaurantLessThan20'].mode()[0])\n",
    "data['Restaurant20To50'] = data['Restaurant20To50'].fillna(data['Restaurant20To50'].mode()[0])"
   ]
  },
  {
   "cell_type": "code",
   "execution_count": 11,
   "id": "eeda9d90",
   "metadata": {},
   "outputs": [
    {
     "name": "stdout",
     "output_type": "stream",
     "text": [
      " Are there any more missing values in the dataset after filling: False\n"
     ]
    }
   ],
   "source": [
    "print(f' Are there any more missing values in the dataset after filling: {data.isnull().values.any()}')"
   ]
  },
  {
   "cell_type": "markdown",
   "id": "6a5ceaf7",
   "metadata": {},
   "source": [
    "#### Findigs\n",
    "1. There were missing values in the dataset\n",
    "2. There are six columns with missing values and more than 99% of the 'car' feaure values are missing. \n",
    "3. Other missing values features have about 1% of the total data missing, these values can be filled.\n",
    "4. <B> Dropped the car column/feature as it is having too many missing values.\n",
    "5. <B> Mode imputation used to fill the missing values for the features that are having low % of missing values"
   ]
  },
  {
   "cell_type": "markdown",
   "id": "e087d8a6",
   "metadata": {},
   "source": [
    "### Data Type Change\n",
    "**Replace values and Change Datatype of age from object to int**"
   ]
  },
  {
   "cell_type": "code",
   "execution_count": 12,
   "id": "14a189a8",
   "metadata": {},
   "outputs": [],
   "source": [
    "data = data.replace('50plus', '51', regex=True)\n",
    "data = data.replace('below21', '20', regex=True)\n",
    "#data['age'].value_counts()\n",
    "data['age'] = data['age'].astype('int64')\n",
    "#data.info()"
   ]
  },
  {
   "cell_type": "markdown",
   "id": "3f27d854",
   "metadata": {},
   "source": [
    "## Exploratory Data Analysis\n",
    "\n",
    "**What proportion of the total observations chose to accept the coupon?**"
   ]
  },
  {
   "cell_type": "code",
   "execution_count": 13,
   "id": "5b52abfb",
   "metadata": {},
   "outputs": [
    {
     "name": "stdout",
     "output_type": "stream",
     "text": [
      "Accepted Count: 7157, Percent Accepted: 56.76%\n",
      "Not Accepted Count: 5453, Percent Not Accepted: 43.24%\n"
     ]
    }
   ],
   "source": [
    "accepted_or_not = data['Y'].value_counts()\n",
    "print(f'Accepted Count: {accepted_or_not[1]}, Percent Accepted: {round(accepted_or_not[1]/data.shape[0]*100,2)}%')\n",
    "print(f'Not Accepted Count: {accepted_or_not[0]}, Percent Not Accepted: {round(accepted_or_not[0]/data.shape[0]*100,2)}%')\n"
   ]
  },
  {
   "cell_type": "markdown",
   "id": "bfac126f",
   "metadata": {},
   "source": [
    "#### Findings\n",
    "- <B> 56.76% of total observation chose to accept the coupons"
   ]
  },
  {
   "cell_type": "markdown",
   "id": "fa1f502c",
   "metadata": {},
   "source": [
    "**Use a bar plot to visualize the coupon column.**"
   ]
  },
  {
   "cell_type": "code",
   "execution_count": 14,
   "id": "87f56f44",
   "metadata": {},
   "outputs": [
    {
     "data": {
      "text/plain": [
       "<AxesSubplot:title={'center':'Coupon Accepted and Not Accepted Counts'}, xlabel='coupon'>"
      ]
     },
     "execution_count": 14,
     "metadata": {},
     "output_type": "execute_result"
    },
    {
     "data": {
      "image/png": "[encoded data removed]",
      "text/plain": [
       "<Figure size 432x288 with 1 Axes>"
      ]
     },
     "metadata": {
      "needs_background": "light"
     },
     "output_type": "display_data"
    }
   ],
   "source": [
    "data.groupby('Y').coupon.value_counts().unstack(0).plot.bar(title='Coupon Accepted and Not Accepted Counts',width=1.0)"
   ]
  },
  {
   "cell_type": "markdown",
   "id": "1ea9aaa8",
   "metadata": {},
   "source": [
    "#### Findings\n",
    "- <B> Higher percentage of Restaurant(<20) and Carry out & Take away coupons accepted"
   ]
  },
  {
   "cell_type": "markdown",
   "id": "5f8eb695",
   "metadata": {},
   "source": [
    "**Use a histogram to visualize the temperature column.**"
   ]
  },
  {
   "cell_type": "code",
   "execution_count": 15,
   "id": "3ddc175c",
   "metadata": {},
   "outputs": [
    {
     "data": {
      "text/html": [
       "<div>\n",
       "<style scoped>\n",
       "    .dataframe tbody tr th:only-of-type {\n",
       "        vertical-align: middle;\n",
       "    }\n",
       "\n",
       "    .dataframe tbody tr th {\n",
       "        vertical-align: top;\n",
       "    }\n",
       "\n",
       "    .dataframe thead th {\n",
       "        text-align: right;\n",
       "    }\n",
       "</style>\n",
       "<table border=\"1\" class=\"dataframe\">\n",
       "  <thead>\n",
       "    <tr style=\"text-align: right;\">\n",
       "      <th></th>\n",
       "      <th>destination</th>\n",
       "      <th>passanger</th>\n",
       "      <th>weather</th>\n",
       "      <th>temperature</th>\n",
       "      <th>time</th>\n",
       "      <th>coupon</th>\n",
       "      <th>expiration</th>\n",
       "      <th>gender</th>\n",
       "      <th>age</th>\n",
       "      <th>maritalStatus</th>\n",
       "      <th>...</th>\n",
       "      <th>CoffeeHouse</th>\n",
       "      <th>CarryAway</th>\n",
       "      <th>RestaurantLessThan20</th>\n",
       "      <th>Restaurant20To50</th>\n",
       "      <th>toCoupon_GEQ5min</th>\n",
       "      <th>toCoupon_GEQ15min</th>\n",
       "      <th>toCoupon_GEQ25min</th>\n",
       "      <th>direction_same</th>\n",
       "      <th>direction_opp</th>\n",
       "      <th>Y</th>\n",
       "    </tr>\n",
       "  </thead>\n",
       "  <tbody>\n",
       "    <tr>\n",
       "      <th>0</th>\n",
       "      <td>No Urgent Place</td>\n",
       "      <td>Alone</td>\n",
       "      <td>Sunny</td>\n",
       "      <td>55</td>\n",
       "      <td>2PM</td>\n",
       "      <td>Restaurant(&lt;20)</td>\n",
       "      <td>1d</td>\n",
       "      <td>Female</td>\n",
       "      <td>21</td>\n",
       "      <td>Unmarried partner</td>\n",
       "      <td>...</td>\n",
       "      <td>never</td>\n",
       "      <td>1~3</td>\n",
       "      <td>4~8</td>\n",
       "      <td>1~3</td>\n",
       "      <td>1</td>\n",
       "      <td>0</td>\n",
       "      <td>0</td>\n",
       "      <td>0</td>\n",
       "      <td>1</td>\n",
       "      <td>1</td>\n",
       "    </tr>\n",
       "    <tr>\n",
       "      <th>1</th>\n",
       "      <td>No Urgent Place</td>\n",
       "      <td>Friend(s)</td>\n",
       "      <td>Sunny</td>\n",
       "      <td>80</td>\n",
       "      <td>10AM</td>\n",
       "      <td>Coffee House</td>\n",
       "      <td>2h</td>\n",
       "      <td>Female</td>\n",
       "      <td>21</td>\n",
       "      <td>Unmarried partner</td>\n",
       "      <td>...</td>\n",
       "      <td>never</td>\n",
       "      <td>1~3</td>\n",
       "      <td>4~8</td>\n",
       "      <td>1~3</td>\n",
       "      <td>1</td>\n",
       "      <td>0</td>\n",
       "      <td>0</td>\n",
       "      <td>0</td>\n",
       "      <td>1</td>\n",
       "      <td>0</td>\n",
       "    </tr>\n",
       "  </tbody>\n",
       "</table>\n",
       "<p>2 rows × 25 columns</p>\n",
       "</div>"
      ],
      "text/plain": [
       "       destination  passanger weather  temperature  time           coupon  \\\n",
       "0  No Urgent Place      Alone   Sunny           55   2PM  Restaurant(<20)   \n",
       "1  No Urgent Place  Friend(s)   Sunny           80  10AM     Coffee House   \n",
       "\n",
       "  expiration  gender  age      maritalStatus  ...  CoffeeHouse CarryAway  \\\n",
       "0         1d  Female   21  Unmarried partner  ...        never       1~3   \n",
       "1         2h  Female   21  Unmarried partner  ...        never       1~3   \n",
       "\n",
       "  RestaurantLessThan20 Restaurant20To50 toCoupon_GEQ5min toCoupon_GEQ15min  \\\n",
       "0                  4~8              1~3                1                 0   \n",
       "1                  4~8              1~3                1                 0   \n",
       "\n",
       "  toCoupon_GEQ25min direction_same direction_opp  Y  \n",
       "0                 0              0             1  1  \n",
       "1                 0              0             1  0  \n",
       "\n",
       "[2 rows x 25 columns]"
      ]
     },
     "execution_count": 15,
     "metadata": {},
     "output_type": "execute_result"
    }
   ],
   "source": [
    "data.head(2)"
   ]
  },
  {
   "cell_type": "code",
   "execution_count": 16,
   "id": "d7baa100",
   "metadata": {
    "scrolled": false
   },
   "outputs": [
    {
     "data": {
      "image/png": "[encoded data removed]",
      "text/plain": [
       "<Figure size 432x288 with 1 Axes>"
      ]
     },
     "metadata": {
      "needs_background": "light"
     },
     "output_type": "display_data"
    }
   ],
   "source": [
    "temparature = data['temperature']\n",
    "bins = [10,20,30,40,50,60,70,80,90]\n",
    "plt.hist(temparature,bins, edgecolor = 'black')\n",
    "plt.title('Temparature when coupon offered')\n",
    "plt.xlabel('Temparature')\n",
    "plt.ylabel('Total Coupons')\n",
    "plt.show()"
   ]
  },
  {
   "cell_type": "markdown",
   "id": "07bf6a9d",
   "metadata": {},
   "source": [
    "#### Findings\n",
    "- <B> More than 50% of the coupons were offered when temparature was between 80 to 90 degrees fahrenheit"
   ]
  },
  {
   "cell_type": "markdown",
   "id": "dabd3153",
   "metadata": {},
   "source": [
    "**Investigating the Bar Coupons**\n",
    "\n",
    "1. Bar Coupons DataFrame"
   ]
  },
  {
   "cell_type": "code",
   "execution_count": 17,
   "id": "984fbcd8",
   "metadata": {
    "scrolled": true
   },
   "outputs": [
    {
     "data": {
      "text/html": [
       "<div>\n",
       "<style scoped>\n",
       "    .dataframe tbody tr th:only-of-type {\n",
       "        vertical-align: middle;\n",
       "    }\n",
       "\n",
       "    .dataframe tbody tr th {\n",
       "        vertical-align: top;\n",
       "    }\n",
       "\n",
       "    .dataframe thead th {\n",
       "        text-align: right;\n",
       "    }\n",
       "</style>\n",
       "<table border=\"1\" class=\"dataframe\">\n",
       "  <thead>\n",
       "    <tr style=\"text-align: right;\">\n",
       "      <th></th>\n",
       "      <th>destination</th>\n",
       "      <th>passanger</th>\n",
       "      <th>weather</th>\n",
       "      <th>temperature</th>\n",
       "      <th>time</th>\n",
       "      <th>coupon</th>\n",
       "      <th>expiration</th>\n",
       "      <th>gender</th>\n",
       "      <th>age</th>\n",
       "      <th>maritalStatus</th>\n",
       "      <th>...</th>\n",
       "      <th>CoffeeHouse</th>\n",
       "      <th>CarryAway</th>\n",
       "      <th>RestaurantLessThan20</th>\n",
       "      <th>Restaurant20To50</th>\n",
       "      <th>toCoupon_GEQ5min</th>\n",
       "      <th>toCoupon_GEQ15min</th>\n",
       "      <th>toCoupon_GEQ25min</th>\n",
       "      <th>direction_same</th>\n",
       "      <th>direction_opp</th>\n",
       "      <th>Y</th>\n",
       "    </tr>\n",
       "  </thead>\n",
       "  <tbody>\n",
       "    <tr>\n",
       "      <th>9</th>\n",
       "      <td>No Urgent Place</td>\n",
       "      <td>Kid(s)</td>\n",
       "      <td>Sunny</td>\n",
       "      <td>80</td>\n",
       "      <td>10AM</td>\n",
       "      <td>Bar</td>\n",
       "      <td>1d</td>\n",
       "      <td>Female</td>\n",
       "      <td>21</td>\n",
       "      <td>Unmarried partner</td>\n",
       "      <td>...</td>\n",
       "      <td>never</td>\n",
       "      <td>1~3</td>\n",
       "      <td>4~8</td>\n",
       "      <td>1~3</td>\n",
       "      <td>1</td>\n",
       "      <td>1</td>\n",
       "      <td>0</td>\n",
       "      <td>0</td>\n",
       "      <td>1</td>\n",
       "      <td>0</td>\n",
       "    </tr>\n",
       "    <tr>\n",
       "      <th>13</th>\n",
       "      <td>Home</td>\n",
       "      <td>Alone</td>\n",
       "      <td>Sunny</td>\n",
       "      <td>55</td>\n",
       "      <td>6PM</td>\n",
       "      <td>Bar</td>\n",
       "      <td>1d</td>\n",
       "      <td>Female</td>\n",
       "      <td>21</td>\n",
       "      <td>Unmarried partner</td>\n",
       "      <td>...</td>\n",
       "      <td>never</td>\n",
       "      <td>1~3</td>\n",
       "      <td>4~8</td>\n",
       "      <td>1~3</td>\n",
       "      <td>1</td>\n",
       "      <td>0</td>\n",
       "      <td>0</td>\n",
       "      <td>1</td>\n",
       "      <td>0</td>\n",
       "      <td>1</td>\n",
       "    </tr>\n",
       "    <tr>\n",
       "      <th>17</th>\n",
       "      <td>Work</td>\n",
       "      <td>Alone</td>\n",
       "      <td>Sunny</td>\n",
       "      <td>55</td>\n",
       "      <td>7AM</td>\n",
       "      <td>Bar</td>\n",
       "      <td>1d</td>\n",
       "      <td>Female</td>\n",
       "      <td>21</td>\n",
       "      <td>Unmarried partner</td>\n",
       "      <td>...</td>\n",
       "      <td>never</td>\n",
       "      <td>1~3</td>\n",
       "      <td>4~8</td>\n",
       "      <td>1~3</td>\n",
       "      <td>1</td>\n",
       "      <td>1</td>\n",
       "      <td>1</td>\n",
       "      <td>0</td>\n",
       "      <td>1</td>\n",
       "      <td>0</td>\n",
       "    </tr>\n",
       "  </tbody>\n",
       "</table>\n",
       "<p>3 rows × 25 columns</p>\n",
       "</div>"
      ],
      "text/plain": [
       "        destination passanger weather  temperature  time coupon expiration  \\\n",
       "9   No Urgent Place    Kid(s)   Sunny           80  10AM    Bar         1d   \n",
       "13             Home     Alone   Sunny           55   6PM    Bar         1d   \n",
       "17             Work     Alone   Sunny           55   7AM    Bar         1d   \n",
       "\n",
       "    gender  age      maritalStatus  ...  CoffeeHouse CarryAway  \\\n",
       "9   Female   21  Unmarried partner  ...        never       1~3   \n",
       "13  Female   21  Unmarried partner  ...        never       1~3   \n",
       "17  Female   21  Unmarried partner  ...        never       1~3   \n",
       "\n",
       "   RestaurantLessThan20 Restaurant20To50 toCoupon_GEQ5min toCoupon_GEQ15min  \\\n",
       "9                   4~8              1~3                1                 1   \n",
       "13                  4~8              1~3                1                 0   \n",
       "17                  4~8              1~3                1                 1   \n",
       "\n",
       "   toCoupon_GEQ25min direction_same direction_opp  Y  \n",
       "9                  0              0             1  0  \n",
       "13                 0              1             0  1  \n",
       "17                 1              0             1  0  \n",
       "\n",
       "[3 rows x 25 columns]"
      ]
     },
     "execution_count": 17,
     "metadata": {},
     "output_type": "execute_result"
    }
   ],
   "source": [
    "bar_coupons_df = data[data['coupon'] == 'Bar']\n",
    "bar_coupons_df.head(3)"
   ]
  },
  {
   "cell_type": "markdown",
   "id": "f997a27d",
   "metadata": {},
   "source": [
    "2. What proportion of bar coupons were accepted?"
   ]
  },
  {
   "cell_type": "code",
   "execution_count": 18,
   "id": "ac748136",
   "metadata": {},
   "outputs": [
    {
     "data": {
      "text/plain": [
       "(2010, 25)"
      ]
     },
     "execution_count": 18,
     "metadata": {},
     "output_type": "execute_result"
    }
   ],
   "source": [
    "bar_coupons_df.shape"
   ]
  },
  {
   "cell_type": "code",
   "execution_count": 19,
   "id": "21da4bff",
   "metadata": {
    "scrolled": true
   },
   "outputs": [
    {
     "name": "stdout",
     "output_type": "stream",
     "text": [
      "Bar Coupons Accepted Count: 824, Percent Accepted: 41.0%\n"
     ]
    }
   ],
   "source": [
    "barcpns_accept_or_not = bar_coupons_df['Y'].value_counts()\n",
    "print(f'Bar Coupons Accepted Count: {barcpns_accept_or_not[1]}, Percent Accepted: {round(barcpns_accept_or_not[1]/bar_coupons_df.shape[0]*100,2)}%')"
   ]
  },
  {
   "cell_type": "markdown",
   "id": "f71f1f07",
   "metadata": {},
   "source": [
    "#### Findings\n",
    "- <B> 41.0 % of Bar coupons were accepted"
   ]
  },
  {
   "cell_type": "markdown",
   "id": "c2e2db35",
   "metadata": {},
   "source": [
    "3. Compare the acceptance rate between those who went to a bar 3 or fewer times a month to those who went more.\n"
   ]
  },
  {
   "cell_type": "code",
   "execution_count": 20,
   "id": "a85bc96b",
   "metadata": {},
   "outputs": [
    {
     "name": "stdout",
     "output_type": "stream",
     "text": [
      "Acceptance rate of customers who went to a bar 3 or fewer times a month: 37.05%\n",
      "Acceptance rate of customers who went to a bar more than 3 times a month: 76.88%\n"
     ]
    }
   ],
   "source": [
    "barcpns_less3_df = bar_coupons_df[bar_coupons_df['Bar'].isin(['never','less1','1~3'])]\n",
    "barcpns_accept_or_not = barcpns_less3_df['Y'].value_counts()\n",
    "print(f'Acceptance rate of customers who went to a bar 3 or fewer times a month: {round(barcpns_accept_or_not[1]/barcpns_less3_df.shape[0]*100,2)}%')\n",
    "barcpns_more3_df = bar_coupons_df[bar_coupons_df['Bar'].isin(['4~8','gt8'])]\n",
    "barcpns_accept_or_not = barcpns_more3_df['Y'].value_counts()\n",
    "print(f'Acceptance rate of customers who went to a bar more than 3 times a month: {round(barcpns_accept_or_not[1]/barcpns_more3_df.shape[0]*100,2)}%')"
   ]
  },
  {
   "cell_type": "markdown",
   "id": "2fe0f77c",
   "metadata": {},
   "source": [
    "#### Findings\n",
    "- <B> Customers who went to bar 3 or fewer times accepted 37.05% of coupons offered\n",
    "- <B> Customers who went to bar more than 3 times accepted 76.88% of coupons offered"
   ]
  },
  {
   "cell_type": "markdown",
   "id": "59d2cf07",
   "metadata": {},
   "source": [
    "4. Compare the acceptance rate between drivers who go to a bar more than once a month and are over the age of 25 to the all others.  Is there a difference?"
   ]
  },
  {
   "cell_type": "code",
   "execution_count": 21,
   "id": "9b0e7dc2",
   "metadata": {},
   "outputs": [
    {
     "data": {
      "text/plain": [
       "(2010, 25)"
      ]
     },
     "execution_count": 21,
     "metadata": {},
     "output_type": "execute_result"
    }
   ],
   "source": [
    "bar_coupons_df.shape"
   ]
  },
  {
   "cell_type": "code",
   "execution_count": 22,
   "id": "ffe01e33",
   "metadata": {},
   "outputs": [
    {
     "data": {
      "text/plain": [
       "(420, 25)"
      ]
     },
     "execution_count": 22,
     "metadata": {},
     "output_type": "execute_result"
    }
   ],
   "source": [
    "dr_gt1_df = bar_coupons_df[bar_coupons_df['Bar'].isin(['gt8','4~8','1~3'])]\n",
    "dr_gt1_age_gt25_df = dr_gt1_df[dr_gt1_df['age']>25]\n",
    "dr_gt1_age_gt25_df.shape"
   ]
  },
  {
   "cell_type": "code",
   "execution_count": 23,
   "id": "7aa36d24",
   "metadata": {},
   "outputs": [
    {
     "data": {
      "text/plain": [
       "(1590, 25)"
      ]
     },
     "execution_count": 23,
     "metadata": {},
     "output_type": "execute_result"
    }
   ],
   "source": [
    "bar_cpns_allothers_df = bar_coupons_df.drop(dr_gt1_age_gt25_df.index)\n",
    "bar_cpns_allothers_df.shape"
   ]
  },
  {
   "cell_type": "code",
   "execution_count": 24,
   "id": "1add74cf",
   "metadata": {
    "scrolled": true
   },
   "outputs": [
    {
     "name": "stdout",
     "output_type": "stream",
     "text": [
      "Acceptance rate of drivers go to a bar more than once a month with age >25: 69.52%\n",
      "Acceptance rate of all others: 33.46%\n"
     ]
    }
   ],
   "source": [
    "barcpns_accept_or_not = dr_gt1_age_gt25_df['Y'].value_counts()\n",
    "print(f'Acceptance rate of drivers go to a bar more than once a month with age >25: {round(barcpns_accept_or_not[1]/dr_gt1_age_gt25_df.shape[0]*100,2)}%')\n",
    "barcpns_accept_or_not = bar_cpns_allothers_df['Y'].value_counts()\n",
    "print(f'Acceptance rate of all others: {round(barcpns_accept_or_not[1]/bar_cpns_allothers_df.shape[0]*100,2)}%')"
   ]
  },
  {
   "cell_type": "markdown",
   "id": "c138e4de",
   "metadata": {},
   "source": [
    "#### Findings\n",
    "- <B> Yes there is a difference in the acceptance rate of coupons between the drivers go to a bar more than once with age > 25 to all others.\n",
    "- <B> Acceptance rate of drivers go to a bar more than once a month with age >25 is 69.52%\n",
    "- <B> Acceptance rate of all others is 33.46%"
   ]
  },
  {
   "cell_type": "markdown",
   "id": "87b5e790",
   "metadata": {},
   "source": [
    "5. Use the same process to compare the acceptance rate between drivers who go to bars more than once a month and had passengers that were not a kid and had occupations other than farming, fishing, or forestry. "
   ]
  },
  {
   "cell_type": "code",
   "execution_count": 25,
   "id": "40e6590f",
   "metadata": {},
   "outputs": [
    {
     "name": "stdout",
     "output_type": "stream",
     "text": [
      "Acceptance rate of drivers go to a bar more than once a month: 68.79%\n",
      "Acceptance rate of drivers with no kid as passenger: 71.32%\n"
     ]
    }
   ],
   "source": [
    "# drivers who go to bars more than once df is dr_gt1_df\n",
    "barcpns_accept_or_not = dr_gt1_df['Y'].value_counts()\n",
    "print(f'Acceptance rate of drivers go to a bar more than once a month: {round(barcpns_accept_or_not[1]/dr_gt1_df.shape[0]*100,2)}%')\n",
    "# No kids\n",
    "psgrs_notkid_df = dr_gt1_df[~dr_gt1_df['passanger'].isin(['Kid(s)'])]\n",
    "# Occupation other than farming, fishing, or forestry\n",
    "psgrs_notkid_df = psgrs_notkid_df[~psgrs_notkid_df['occupation'].isin(['farming','fishing','forestry'])]\n",
    "barcpns_accept_or_not = psgrs_notkid_df['Y'].value_counts()\n",
    "print(f'Acceptance rate of drivers with no kid as passenger: {round(barcpns_accept_or_not[1]/psgrs_notkid_df.shape[0]*100,2)}%')\n"
   ]
  },
  {
   "cell_type": "markdown",
   "id": "058b81d9",
   "metadata": {},
   "source": [
    "#### Findings\n",
    "- Drivers that go to bar more than once accepts 68.79% of coupons\n",
    "- Drivers that go to bar more than once with no kid passenger accepts 71.32% of coupons\n",
    "- <B> Drivers with no kid passenger accepts more bar coupons\n",
    "    "
   ]
  },
  {
   "cell_type": "markdown",
   "id": "0b5ae81d",
   "metadata": {},
   "source": [
    "6. Compare the acceptance rates between those drivers who:\n",
    "\n",
    "- go to bars more than once a month, had passengers that were not a kid, and were not widowed *OR*\n",
    "- go to bars more than once a month and are under the age of 30 *OR*\n",
    "- go to cheap restaurants more than 4 times a month and income is less than 50K. "
   ]
  },
  {
   "cell_type": "code",
   "execution_count": 26,
   "id": "d9c263e4",
   "metadata": {},
   "outputs": [
    {
     "name": "stdout",
     "output_type": "stream",
     "text": [
      "Acceptance rate of drivers go to bar more than once, not widowed and with no kid as passenger: 68.79%\n",
      "Acceptance rate of drivers go to bar more than once with age < 30: 72.17%\n",
      "Acceptance rate of drivers go to resturant more than 4 times with income < 50k: 45.35%\n"
     ]
    }
   ],
   "source": [
    "# drivers who go to bars more than once df is dr_gt1_df\n",
    "dr_gt1_pass_notkid_df = dr_gt1_df[~dr_gt1_df['passanger'].isin(['Kid(s)'])]\n",
    "dr_gt1_pass_notkid_ms_notwidowed_df = dr_gt1_df[~dr_gt1_df['maritalStatus'].isin(['widowed'])]\n",
    "barcpns_accept_or_not = dr_gt1_pass_notkid_ms_notwidowed_df['Y'].value_counts()\n",
    "print(f'Acceptance rate of drivers go to bar more than once, not widowed and with no kid as passenger: {round(barcpns_accept_or_not[1]/dr_gt1_pass_notkid_ms_notwidowed_df.shape[0]*100,2)}%')\n",
    "dr_gt1_age_lt30_df = dr_gt1_df[dr_gt1_df['age']<30]\n",
    "barcpns_accept_or_not = dr_gt1_age_lt30_df['Y'].value_counts()\n",
    "print(f'Acceptance rate of drivers go to bar more than once with age < 30: {round(barcpns_accept_or_not[1]/dr_gt1_age_lt30_df.shape[0]*100,2)}%')\n",
    "# get the bar coupons df and filter based on the visit of the restaurants and income\n",
    "dr_restgt4_df = bar_coupons_df[bar_coupons_df['RestaurantLessThan20'].isin(['4~8','gt8'])]\n",
    "dr_restgt4_income_df = dr_restgt4_df[dr_restgt4_df['income'].isin(['Less than $12500','$12500 - $24999','$25000 - $37499','$37500 - $49999'])]\n",
    "barcpns_accept_or_not = dr_restgt4_income_df['Y'].value_counts()\n",
    "print(f'Acceptance rate of drivers go to resturant more than 4 times with income < 50k: {round(barcpns_accept_or_not[1]/dr_restgt4_income_df.shape[0]*100,2)}%')\n",
    "\n"
   ]
  },
  {
   "cell_type": "markdown",
   "id": "72257958",
   "metadata": {},
   "source": [
    "#### Findings\n",
    "- Drivers go to bar more than once, not widowed and with no kid as passenger accepts 68.79% of coupons.\n",
    "- Drivers go to bar more than once with age < 30 accepts 72.17% of coupons\n",
    "- Drivers go to resturant more than 4 times with income < 50k accepts 45.35% of coupons\n",
    "- <B> Drivers with low income accepts lower percentage of bar coupons"
   ]
  },
  {
   "cell_type": "markdown",
   "id": "f41d1131",
   "metadata": {},
   "source": [
    "7.  Based on these observations, what do you hypothesize about drivers who accepted the bar coupons?"
   ]
  },
  {
   "cell_type": "markdown",
   "id": "1a1d2ac1",
   "metadata": {},
   "source": [
    "**Hypothesize about drivers who accpeted the bar coupons:**\n",
    "- Total bar coupons offered = <B>2010\n",
    "- Total Bar coupons accepted = 824 (<B>41%)\n",
    "- Customers who go to bar frequently (more than 3 times a month) has highest % of acceptance rate: <B>76.88%\n",
    "- <B> Drivers with no kid passenger accepts higher percentage of bar coupons\n",
    "- <B> Drivers with low income accepts lower percentage of bar coupons"
   ]
  },
  {
   "cell_type": "markdown",
   "id": "44454a7c",
   "metadata": {},
   "source": [
    "### Independent Investigation\n",
    "\n",
    "Using the bar coupon example as motivation, you are to explore one of the other coupon groups and try to determine the characteristics of passengers who accept the coupons.  "
   ]
  },
  {
   "cell_type": "markdown",
   "id": "147e2a8c",
   "metadata": {},
   "source": [
    "### Coffee Coupons\n",
    "\n",
    "1. Coffee Coupon DataFrame"
   ]
  },
  {
   "cell_type": "code",
   "execution_count": 27,
   "id": "bae85c18",
   "metadata": {
    "scrolled": true
   },
   "outputs": [
    {
     "data": {
      "text/html": [
       "<div>\n",
       "<style scoped>\n",
       "    .dataframe tbody tr th:only-of-type {\n",
       "        vertical-align: middle;\n",
       "    }\n",
       "\n",
       "    .dataframe tbody tr th {\n",
       "        vertical-align: top;\n",
       "    }\n",
       "\n",
       "    .dataframe thead th {\n",
       "        text-align: right;\n",
       "    }\n",
       "</style>\n",
       "<table border=\"1\" class=\"dataframe\">\n",
       "  <thead>\n",
       "    <tr style=\"text-align: right;\">\n",
       "      <th></th>\n",
       "      <th>destination</th>\n",
       "      <th>passanger</th>\n",
       "      <th>weather</th>\n",
       "      <th>temperature</th>\n",
       "      <th>time</th>\n",
       "      <th>coupon</th>\n",
       "      <th>expiration</th>\n",
       "      <th>gender</th>\n",
       "      <th>age</th>\n",
       "      <th>maritalStatus</th>\n",
       "      <th>...</th>\n",
       "      <th>CoffeeHouse</th>\n",
       "      <th>CarryAway</th>\n",
       "      <th>RestaurantLessThan20</th>\n",
       "      <th>Restaurant20To50</th>\n",
       "      <th>toCoupon_GEQ5min</th>\n",
       "      <th>toCoupon_GEQ15min</th>\n",
       "      <th>toCoupon_GEQ25min</th>\n",
       "      <th>direction_same</th>\n",
       "      <th>direction_opp</th>\n",
       "      <th>Y</th>\n",
       "    </tr>\n",
       "  </thead>\n",
       "  <tbody>\n",
       "    <tr>\n",
       "      <th>1</th>\n",
       "      <td>No Urgent Place</td>\n",
       "      <td>Friend(s)</td>\n",
       "      <td>Sunny</td>\n",
       "      <td>80</td>\n",
       "      <td>10AM</td>\n",
       "      <td>Coffee House</td>\n",
       "      <td>2h</td>\n",
       "      <td>Female</td>\n",
       "      <td>21</td>\n",
       "      <td>Unmarried partner</td>\n",
       "      <td>...</td>\n",
       "      <td>never</td>\n",
       "      <td>1~3</td>\n",
       "      <td>4~8</td>\n",
       "      <td>1~3</td>\n",
       "      <td>1</td>\n",
       "      <td>0</td>\n",
       "      <td>0</td>\n",
       "      <td>0</td>\n",
       "      <td>1</td>\n",
       "      <td>0</td>\n",
       "    </tr>\n",
       "    <tr>\n",
       "      <th>3</th>\n",
       "      <td>No Urgent Place</td>\n",
       "      <td>Friend(s)</td>\n",
       "      <td>Sunny</td>\n",
       "      <td>80</td>\n",
       "      <td>2PM</td>\n",
       "      <td>Coffee House</td>\n",
       "      <td>2h</td>\n",
       "      <td>Female</td>\n",
       "      <td>21</td>\n",
       "      <td>Unmarried partner</td>\n",
       "      <td>...</td>\n",
       "      <td>never</td>\n",
       "      <td>1~3</td>\n",
       "      <td>4~8</td>\n",
       "      <td>1~3</td>\n",
       "      <td>1</td>\n",
       "      <td>1</td>\n",
       "      <td>0</td>\n",
       "      <td>0</td>\n",
       "      <td>1</td>\n",
       "      <td>0</td>\n",
       "    </tr>\n",
       "    <tr>\n",
       "      <th>4</th>\n",
       "      <td>No Urgent Place</td>\n",
       "      <td>Friend(s)</td>\n",
       "      <td>Sunny</td>\n",
       "      <td>80</td>\n",
       "      <td>2PM</td>\n",
       "      <td>Coffee House</td>\n",
       "      <td>1d</td>\n",
       "      <td>Female</td>\n",
       "      <td>21</td>\n",
       "      <td>Unmarried partner</td>\n",
       "      <td>...</td>\n",
       "      <td>never</td>\n",
       "      <td>1~3</td>\n",
       "      <td>4~8</td>\n",
       "      <td>1~3</td>\n",
       "      <td>1</td>\n",
       "      <td>1</td>\n",
       "      <td>0</td>\n",
       "      <td>0</td>\n",
       "      <td>1</td>\n",
       "      <td>0</td>\n",
       "    </tr>\n",
       "  </tbody>\n",
       "</table>\n",
       "<p>3 rows × 25 columns</p>\n",
       "</div>"
      ],
      "text/plain": [
       "       destination  passanger weather  temperature  time        coupon  \\\n",
       "1  No Urgent Place  Friend(s)   Sunny           80  10AM  Coffee House   \n",
       "3  No Urgent Place  Friend(s)   Sunny           80   2PM  Coffee House   \n",
       "4  No Urgent Place  Friend(s)   Sunny           80   2PM  Coffee House   \n",
       "\n",
       "  expiration  gender  age      maritalStatus  ...  CoffeeHouse CarryAway  \\\n",
       "1         2h  Female   21  Unmarried partner  ...        never       1~3   \n",
       "3         2h  Female   21  Unmarried partner  ...        never       1~3   \n",
       "4         1d  Female   21  Unmarried partner  ...        never       1~3   \n",
       "\n",
       "  RestaurantLessThan20 Restaurant20To50 toCoupon_GEQ5min toCoupon_GEQ15min  \\\n",
       "1                  4~8              1~3                1                 0   \n",
       "3                  4~8              1~3                1                 1   \n",
       "4                  4~8              1~3                1                 1   \n",
       "\n",
       "  toCoupon_GEQ25min direction_same direction_opp  Y  \n",
       "1                 0              0             1  0  \n",
       "3                 0              0             1  0  \n",
       "4                 0              0             1  0  \n",
       "\n",
       "[3 rows x 25 columns]"
      ]
     },
     "execution_count": 27,
     "metadata": {},
     "output_type": "execute_result"
    }
   ],
   "source": [
    "coffee_coupons_df = data[data['coupon'] == 'Coffee House']\n",
    "#coffee_coupons_df.value_counts()\n",
    "coffee_coupons_df.head(3)                 "
   ]
  },
  {
   "cell_type": "markdown",
   "id": "b937f1f1",
   "metadata": {},
   "source": [
    "2. What proportion of coffee coupons were accepted?"
   ]
  },
  {
   "cell_type": "code",
   "execution_count": 28,
   "id": "09a59de9",
   "metadata": {},
   "outputs": [
    {
     "data": {
      "text/plain": [
       "(3989, 25)"
      ]
     },
     "execution_count": 28,
     "metadata": {},
     "output_type": "execute_result"
    }
   ],
   "source": [
    "coffee_coupons_df.shape"
   ]
  },
  {
   "cell_type": "code",
   "execution_count": 29,
   "id": "f44e61c2",
   "metadata": {},
   "outputs": [
    {
     "name": "stdout",
     "output_type": "stream",
     "text": [
      "Coffee Coupons Accepted Count: 1989, Percent Accepted: 49.86%\n"
     ]
    }
   ],
   "source": [
    "cof_cpns_accepted_or_not = coffee_coupons_df['Y'].value_counts()\n",
    "print(f'Coffee Coupons Accepted Count: {cof_cpns_accepted_or_not[1]}, Percent Accepted: {round(cof_cpns_accepted_or_not[1]/coffee_coupons_df.shape[0]*100,2)}%')"
   ]
  },
  {
   "cell_type": "markdown",
   "id": "9ac805ed",
   "metadata": {},
   "source": [
    "#### Findings\n",
    "- <B> About 50% coffee coupons were accepted"
   ]
  },
  {
   "cell_type": "markdown",
   "id": "7e222909",
   "metadata": {},
   "source": [
    "3. Compare the acceptance rate between male and female who accepted the coffee coupons\n"
   ]
  },
  {
   "cell_type": "code",
   "execution_count": 30,
   "id": "82eb4cc1",
   "metadata": {},
   "outputs": [
    {
     "data": {
      "text/plain": [
       "<AxesSubplot:xlabel='Y'>"
      ]
     },
     "execution_count": 30,
     "metadata": {},
     "output_type": "execute_result"
    },
    {
     "data": {
      "image/png": "[encoded data removed]",
      "text/plain": [
       "<Figure size 432x288 with 1 Axes>"
      ]
     },
     "metadata": {
      "needs_background": "light"
     },
     "output_type": "display_data"
    }
   ],
   "source": [
    "coffee_coupons_accepted_df = coffee_coupons_df[coffee_coupons_df['Y'] == 1]\n",
    "coffee_coupons_accepted_df.groupby('gender').Y.value_counts().unstack(0).plot.bar()"
   ]
  },
  {
   "cell_type": "code",
   "execution_count": 31,
   "id": "1b8f8bec",
   "metadata": {},
   "outputs": [
    {
     "data": {
      "text/plain": [
       "Female    2048\n",
       "Male      1941\n",
       "Name: gender, dtype: int64"
      ]
     },
     "execution_count": 31,
     "metadata": {},
     "output_type": "execute_result"
    }
   ],
   "source": [
    "coffee_coupons_df['gender'].value_counts()"
   ]
  },
  {
   "cell_type": "code",
   "execution_count": 32,
   "id": "0d8899cc",
   "metadata": {},
   "outputs": [
    {
     "name": "stdout",
     "output_type": "stream",
     "text": [
      "Coupon acceptance rate of Male drivers: 50.59%\n",
      "Coupon acceptance rate of Female drivers: 49.17%\n"
     ]
    }
   ],
   "source": [
    "coffee_coupons_male_df = coffee_coupons_df[coffee_coupons_df['gender'] == 'Male']\n",
    "coupons_accept_or_not = coffee_coupons_male_df['Y'].value_counts()\n",
    "print(f'Coupon acceptance rate of Male drivers: {round(coupons_accept_or_not[1]/coffee_coupons_male_df.shape[0]*100,2)}%')\n",
    "coffee_coupons_female_df = coffee_coupons_df[coffee_coupons_df['gender'] == 'Female']\n",
    "coupons_accept_or_not = coffee_coupons_female_df['Y'].value_counts()\n",
    "print(f'Coupon acceptance rate of Female drivers: {round(coupons_accept_or_not[1]/coffee_coupons_female_df.shape[0]*100,2)}%')"
   ]
  },
  {
   "cell_type": "markdown",
   "id": "f7f31f13",
   "metadata": {},
   "source": [
    "#### Findings\n",
    "- <B> Almost equal percentage of coffee coupons accepted irrespective of the gender"
   ]
  },
  {
   "cell_type": "markdown",
   "id": "ec1c3262",
   "metadata": {},
   "source": [
    "4. Compare the acceptance rate of coffee coupons by Marital Status"
   ]
  },
  {
   "cell_type": "code",
   "execution_count": 33,
   "id": "9a0b28f9",
   "metadata": {
    "scrolled": false
   },
   "outputs": [
    {
     "data": {
      "text/plain": [
       "<AxesSubplot:title={'center':'Cofee Coupons Accepted By Martial Status'}>"
      ]
     },
     "execution_count": 33,
     "metadata": {},
     "output_type": "execute_result"
    },
    {
     "data": {
      "image/png": "[encoded data removed]",
      "text/plain": [
       "<Figure size 864x432 with 1 Axes>"
      ]
     },
     "metadata": {
      "needs_background": "light"
     },
     "output_type": "display_data"
    }
   ],
   "source": [
    "coffee_coupons_accepted_df['maritalStatus'].value_counts().sort_values().plot(kind = 'bar', title='Cofee Coupons Accepted By Martial Status', figsize=(12,6))"
   ]
  },
  {
   "cell_type": "markdown",
   "id": "09dd6904",
   "metadata": {},
   "source": [
    "5. Compare the acceptance rate of coffee coupons by type of passenger using bar plot visualization"
   ]
  },
  {
   "cell_type": "code",
   "execution_count": 34,
   "id": "19a779e5",
   "metadata": {
    "scrolled": true
   },
   "outputs": [
    {
     "data": {
      "text/plain": [
       "<AxesSubplot:title={'center':'Coffee Coupon Accepted and Not Accepted Counts'}, xlabel='passanger'>"
      ]
     },
     "execution_count": 34,
     "metadata": {},
     "output_type": "execute_result"
    },
    {
     "data": {
      "image/png": "[encoded data removed]",
      "text/plain": [
       "<Figure size 432x288 with 1 Axes>"
      ]
     },
     "metadata": {
      "needs_background": "light"
     },
     "output_type": "display_data"
    }
   ],
   "source": [
    "data.groupby('Y').passanger.value_counts().unstack(0).plot.bar(title='Coffee Coupon Accepted and Not Accepted Counts',width=1.0)"
   ]
  },
  {
   "cell_type": "markdown",
   "id": "5bc58207",
   "metadata": {},
   "source": [
    "6. Based on these observations, what do you hypothesize about drivers who accepted the coffee coupons?"
   ]
  },
  {
   "cell_type": "markdown",
   "id": "a814fa0d",
   "metadata": {},
   "source": [
    "**Hypothesize about drivers who accpeted Cofee Coupons:**\n",
    "- Total Coffee coupons offered = <B>3989\n",
    "- Total Coffee coupons accepted = <B>1989 (49.86%)\n",
    "- <B> Drivers with friend(s) as passenger accepts higher percentage of coffee coupons.\n",
    "- <B> Approximtely same percentage of coffee coupons accepted by gender basis"
   ]
  }
 ],
 "metadata": {
  "kernelspec": {
   "display_name": "Python 3 (ipykernel)",
   "language": "python",
   "name": "python3"
  },
  "language_info": {
   "codemirror_mode": {
    "name": "ipython",
    "version": 3
   },
   "file_extension": ".py",
   "mimetype": "text/x-python",
   "name": "python",
   "nbconvert_exporter": "python",
   "pygments_lexer": "ipython3",
   "version": "3.9.12"
  }
 },
 "nbformat": 4,
 "nbformat_minor": 5
}
